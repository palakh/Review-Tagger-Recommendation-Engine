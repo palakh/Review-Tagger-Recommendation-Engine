{
  "nbformat": 4,
  "nbformat_minor": 0,
  "metadata": {
    "colab": {
      "name": "EDA+Review_tagger.ipynb",
      "provenance": []
    },
    "kernelspec": {
      "name": "python3",
      "display_name": "Python 3"
    }
  },
  "cells": [
    {
      "cell_type": "code",
      "metadata": {
        "id": "VyZ7qZonSQjp"
      },
      "source": [
        "df = pd.read_csv('/content/data (3).csv')\n",
        "df1 = pd.read_csv('/content/data (1).csv')\n",
        "df2 = pd.read_csv('/content/data (2).csv')\n",
        "r = [df,df1,df2]\n",
        "df = pd.concat(r)\n",
        "df.drop(['product_link','web-scraper-start-url','product_link-href','web-scraper-order','reviews-href'],axis=1,inplace=True)#"
      ],
      "execution_count": null,
      "outputs": []
    },
    {
      "cell_type": "markdown",
      "metadata": {
        "id": "oQrVAuhxACxc"
      },
      "source": [
        "## Pre-processing"
      ]
    },
    {
      "cell_type": "markdown",
      "metadata": {
        "id": "XuGphk0GAEiz"
      },
      "source": [
        "**Data Preprocessing**\n",
        "\n",
        "1. Creating a Serial Indexing for products\n",
        "2. Extracting Retail and Rental Price\n",
        "3. Converting height column from string to numeric in inches\n",
        "4. Variable type conversions (e.g. datetype, int etc)\n",
        "5. Data Imputation using mean method\n",
        "6. Resolve Scraping issues (eg Bust Size contains bodytype) \n",
        "7. Understanid products with no reviews and looking for some similarity\n",
        "8. Splitting Data into meaningful information (Product Info)\n",
        "9. Running Topic Modeling to observe which clothes are not selected and do they have any similarities \n",
        "\n",
        "\n",
        "\n",
        "\n",
        "\n",
        "\n",
        "\n",
        "## Key Insights\n",
        "\n",
        "**1. According to occasions, Weddings has the most diverse range with respect to the rental prices which is justified since during the inception of the company, major attraction was weddings and parties**\n",
        "\n",
        "**2. We observe products following a linear relationship between retail and rental price. Most of our producte lie in the retail in greater or less than 250 dollars and rental in less than 50 dollars**\n",
        "\n",
        "##No_reviews Data Analysis\n",
        "\n",
        "**1. 96 products have no reviews. Out of no review products, 86% are imported**\n",
        "\n",
        "**2. Most of these clothes are made of polyester or cotton and are either printed or floral, are wrap dresses or tops/skirts with zippers**\n",
        "\n",
        "**3. We don't see any correlation between no_reviews items - not liked by a lot and rental and retail prices**\n",
        "\n"
      ]
    },
    {
      "cell_type": "code",
      "metadata": {
        "id": "B7EYsKEcEcCW"
      },
      "source": [
        "key = df['product_name'].drop_duplicates().reset_index()\n",
        "key.columns=['Serial','Name']\n",
        "key['Serial'] = key['Serial'] +1 \n",
        "df = df.merge(key,how='left',left_on='product_name',right_on = 'Name')\n",
        "df['product_rental_price'] = df['product_rental_ptice'] \n",
        "no_review_data = df[(df['reviews'].isnull())][['product_name','product_brand','product_retail_price','product_rental_price','Product Info']]\n",
        "df.drop(['Name','product_rental_ptice','Body Type'],axis=1,inplace=True)"
      ],
      "execution_count": null,
      "outputs": []
    },
    {
      "cell_type": "code",
      "metadata": {
        "id": "jNFPssdzTFme"
      },
      "source": [
        "df.head(4)\n",
        "df.shape,df.drop_duplicates().shape\n",
        "df.dtypes\n",
        "\n",
        "extract_letter(df,'product_retail_price','[0-9]',1)\n",
        "extract_letter(df,'product_rental_price','\\D',2)\n",
        "\n",
        "df['Review Date'] = df['Review Date'].str.replace(',',' ')\n",
        "df['Review Date'] = pd.to_datetime(df['Review Date'])\n",
        "\n",
        "df['Height']= df['Height'].str[0].astype(float)*12 +  df['Height'].str[3].astype(float)\n",
        "df['Height'] = df['Height'].fillna(int(df['Height'].mean())).astype(float)\n",
        "\n",
        "df['Weight']= df['Weight'].str[0:-3].fillna('0')\n",
        "df['Weight'].apply(lambda x: x.split('.')[0])\n",
        "\n",
        "pattern1 = re.compile(r'[0-9][0-9][\\w+]',re.I)\n",
        "df['Bust Size'] = np.where(df['Bust Size'].str.contains(pattern1), df['Bust Size'],0)\n",
        "\n",
        "df['Stylist Info'] = extract_string(df['Product Info'],'Notes','Size')\n",
        "df['Size Info'] = extract_string(df['Product Info'],'Sized:','.Product')\n",
        "df['Product Details'] = extract_string(df['Product Info'],'Details','ShareSave')\n",
        "\n",
        "pattern3 = 'Imported'\n",
        "df['Imported/USA'] = np.where(df['Product Details'].str.contains(pattern3), pattern3,'USA')\n",
        "\n",
        "pattern4 = '\"'\n",
        "df['Size_worn'] = np.where(df['Size_worn'].str.contains(pattern4),0,df['Size_worn'])\n",
        "\n",
        "pattern5 = re.compile(r'[\\w+]',re.I)\n",
        "df['Bust Size'] = np.where((df['Bust Size']==0) & (df['Age'].str.contains(pattern5)),df['Age'],df['Bust Size'])\n",
        "\n",
        "pattern6 = re.compile(r'[a-zA-Z]+',re.I)\n",
        "df['Age'] = np.where(df['Age'].str.contains(pattern6),0,df['Age'])\n",
        "\n",
        "df['Age'] = df['Age'].apply(lambda x: int(x))\n",
        "df['Size_worn'] = df['Size_worn'].apply(lambda x: int(x))\n",
        "\n",
        "df['Weight']= df['Weight'].replace(r'^\\s*$', np.nan, regex=True)\n",
        "df['Weight'] = np.where(pd.notnull(df['Weight']),df['Weight'],0)\n",
        "df['Weight']\n",
        "df['Weight'] = df['Weight'].apply(lambda x: int(x))\n",
        "\n",
        "df.head(4)\n",
        "df.dtypes"
      ],
      "execution_count": null,
      "outputs": []
    },
    {
      "cell_type": "markdown",
      "metadata": {
        "id": "k2lxLCVl4uUz"
      },
      "source": [
        "**Top 10 reviewed products**"
      ]
    },
    {
      "cell_type": "code",
      "metadata": {
        "id": "HEa5WN3p4fAJ"
      },
      "source": [
        "df['product_name'].value_counts().head(10)"
      ],
      "execution_count": null,
      "outputs": []
    },
    {
      "cell_type": "markdown",
      "metadata": {
        "id": "6Wr8JrGiW8p2"
      },
      "source": [
        "**Occasion Analysis**"
      ]
    },
    {
      "cell_type": "code",
      "metadata": {
        "id": "yHGhL5ud_Vak"
      },
      "source": [
        "df['Occasion '].value_counts()"
      ],
      "execution_count": null,
      "outputs": []
    },
    {
      "cell_type": "code",
      "metadata": {
        "id": "HM2DYmXGqER6",
        "colab": {
          "base_uri": "https://localhost:8080/",
          "height": 280
        },
        "outputId": "1eb66d10-d3c9-46c2-c6e6-d965f3593b6d"
      },
      "source": [
        "df.plot.hexbin(x='product_rental_price',y='product_retail_price',gridsize=25,cmap='',sharex=False).autoscale(enable=True, tight=True, axis='both');"
      ],
      "execution_count": null,
      "outputs": [
        {
          "output_type": "display_data",
          "data": {
            "image/png": "[encoded data removed]",
            "text/plain": [
              "<Figure size 432x288 with 2 Axes>"
            ]
          },
          "metadata": {
            "tags": [],
            "needs_background": "light"
          }
        }
      ]
    },
    {
      "cell_type": "code",
      "metadata": {
        "id": "-2ecNwbzvBhR",
        "colab": {
          "base_uri": "https://localhost:8080/",
          "height": 361
        },
        "outputId": "efe338d3-5d8f-405d-ee7e-c5cacb5aaeaf"
      },
      "source": [
        "df_edited = df[(df['Occasion ']!='Small') | (df['Occasion ']!='Large') | (df['Occasion ']!='True to Size')]\n",
        "df_edited[['Occasion ','product_retail_price']].boxplot(by='Occasion ', grid=True,figsize=(10,5));"
      ],
      "execution_count": null,
      "outputs": [
        {
          "output_type": "display_data",
          "data": {
            "image/png": "[encoded data removed]",
            "text/plain": [
              "<Figure size 720x360 with 1 Axes>"
            ]
          },
          "metadata": {
            "tags": [],
            "needs_background": "light"
          }
        }
      ]
    },
    {
      "cell_type": "markdown",
      "metadata": {
        "id": "-Jm3OgmZBdiQ"
      },
      "source": [
        "## **No Review Data Analysis**"
      ]
    },
    {
      "cell_type": "code",
      "metadata": {
        "id": "B3HCewVbsSxw",
        "colab": {
          "base_uri": "https://localhost:8080/",
          "height": 67
        },
        "outputId": "b1b2c1ef-ab8d-49b3-badf-f01ec92c1a13"
      },
      "source": [
        "no_review_data = df[(df['reviews'].isnull())][['Serial','product_name','product_brand','product_retail_price','product_rental_price','Stylist Info','Product Details','Imported/USA']]\n",
        "df.drop(['reviews'],axis=1,inplace=True)\n",
        "no_review_data\n",
        "concat_data(no_review_data,'Serial')\n",
        "\n",
        "embed_review_data = USE_embed(no_review_data,'all')\n",
        "embed_review_data['Serial'] = no_review_data['Serial'].to_numpy()\n",
        "embed_review_data = embed_review_data.T\n",
        "embed_review_data.columns = embed_review_data.iloc[-1]\n",
        "corr = embed_review_data.corr()\n",
        "no_review_data['Imported/USA'].value_counts(normalize=True)*100\n",
        "#no_review_data.groupby(['Imported/USA','product_brand']).agg({'Serial':'count','product_retail_price':'mean','product_rental_price':'mean'}).reset_index()"
      ],
      "execution_count": null,
      "outputs": [
        {
          "output_type": "execute_result",
          "data": {
            "text/plain": [
              "Imported    85.294118\n",
              "USA         14.705882\n",
              "Name: Imported/USA, dtype: float64"
            ]
          },
          "metadata": {
            "tags": []
          },
          "execution_count": 98
        }
      ]
    },
    {
      "cell_type": "code",
      "metadata": {
        "id": "ybFmuXoZSa2G"
      },
      "source": [
        "No_rev_analysis = no_review_data.groupby('product_brand').agg({'product_rental_price':'mean','product_retail_price':'mean'}).reset_index()\n",
        "No_rev_analysis['Percent'] = No_rev_analysis['product_rental_price']/No_rev_analysis['product_retail_price']*100\n",
        "No_rev_analysis.sort_values(by='Percent',ascending=False).head(5)"
      ],
      "execution_count": null,
      "outputs": []
    },
    {
      "cell_type": "code",
      "metadata": {
        "id": "-8H0268eohqd",
        "colab": {
          "base_uri": "https://localhost:8080/",
          "height": 337
        },
        "outputId": "6bf3aeaf-96bd-49a3-9e56-2674790ee961"
      },
      "source": [
        "figure, axes = plt.subplots(1, 2)\n",
        "df['product_retail_price'].plot.kde(figsize=(15,5),ax=axes[0])\n",
        "no_review_data['product_retail_price'].plot.kde(ax=axes[0])\n",
        "df['product_rental_price'].plot.kde(figsize=(15,5),ax=axes[1])\n",
        "no_review_data['product_rental_price'].plot.kde(ax=axes[1])"
      ],
      "execution_count": null,
      "outputs": [
        {
          "output_type": "execute_result",
          "data": {
            "text/plain": [
              "<matplotlib.axes._subplots.AxesSubplot at 0x7fdf0d50ce80>"
            ]
          },
          "metadata": {
            "tags": []
          },
          "execution_count": 100
        },
        {
          "output_type": "display_data",
          "data": {
            "image/png": "[encoded data removed]",
            "text/plain": [
              "<Figure size 1080x360 with 2 Axes>"
            ]
          },
          "metadata": {
            "tags": [],
            "needs_background": "light"
          }
        }
      ]
    },
    {
      "cell_type": "code",
      "metadata": {
        "id": "WfeDz-wtETiu",
        "colab": {
          "base_uri": "https://localhost:8080/",
          "height": 50
        },
        "outputId": "38b31f0e-7f16-460e-cdad-f9338b4d2d08"
      },
      "source": [
        "warnings.filterwarnings(\"ignore\")\n",
        "print(list(review_tagger(no_review_data,'Stylist Info',20)['index'].values))\n",
        "print(list(review_tagger(no_review_data,'Product Details',10)['index'].values))"
      ],
      "execution_count": null,
      "outputs": [
        {
          "output_type": "stream",
          "text": [
            "['trend', 'lend', 'high', 'trendy', 'size']\n",
            "['hemline', 'closure', 'hide', 'sleeve', 'import']\n"
          ],
          "name": "stdout"
        }
      ]
    },
    {
      "cell_type": "code",
      "metadata": {
        "id": "6ta-7PsQRq3m"
      },
      "source": [
        "list(review_tagger(no_review_data,'Product Details',10)['index'].values)"
      ],
      "execution_count": null,
      "outputs": []
    },
    {
      "cell_type": "markdown",
      "metadata": {
        "id": "f82RQ736Gc0I"
      },
      "source": [
        "#### Our review tagger is implemented\n",
        "\n",
        "## Applications\n",
        "1. Reduce conversion time by allowing users the appropriate subset of reviews\n",
        "2. Segment reviews over time to understand different customer segments\n"
      ]
    },
    {
      "cell_type": "markdown",
      "metadata": {
        "id": "NR0Bg7sSIaDY"
      },
      "source": [
        "## Functions"
      ]
    },
    {
      "cell_type": "code",
      "metadata": {
        "id": "lhUayW9pHQr7"
      },
      "source": [
        "!pip install unidecode\n",
        "import pandas as pd\n",
        "import numpy as np\n",
        "import re\n",
        "import statistics\n",
        "import matplotlib.pyplot as plt\n",
        "import seaborn as sns\n",
        "import re\n",
        "from re import sub\n",
        "import multiprocessing\n",
        "from unidecode import unidecode\n",
        "\n",
        "import nltk\n",
        "nltk.download('all')\n",
        "!pip install pyLDAvis\n",
        "from pprint import pprint\n",
        "# NLTK \n",
        "from nltk.corpus import stopwords\n",
        "from nltk.stem.wordnet import WordNetLemmatizer\n",
        "from nltk.corpus import stopwords\n",
        "stop_words = stopwords.words('english') #this depends on each language\n",
        "# Gensim\n",
        "!pip install gensim\n",
        "import gensim\n",
        "import gensim.corpora as corpora\n",
        "from gensim.utils import simple_preprocess\n",
        "from gensim.models import CoherenceModel\n",
        "# spacy for lemmatization\n",
        "import spacy\n",
        "# Plotting tools\n",
        "import pyLDAvis\n",
        "import pyLDAvis.gensim  \n",
        "import matplotlib.pyplot as plt\n",
        "%matplotlib inline\n",
        "\n",
        "# Enable logging for gensim - optional\n",
        "import logging\n",
        "logging.basicConfig(format='%(asctime)s : %(levelname)s : %(message)s', level=logging.ERROR)\n",
        "\n",
        "import warnings\n",
        "warnings.filterwarnings(\"ignore\",category=DeprecationWarning)\n",
        "\n",
        "from time import time \n",
        "from collections import defaultdict\n",
        "\n",
        "import logging  # Setting up the loggings to monitor gensim\n",
        "logging.basicConfig(format=\"%(levelname)s - %(asctime)s: %(message)s\", datefmt= '%H:%M:%S', level=logging.INFO)"
      ],
      "execution_count": null,
      "outputs": []
    },
    {
      "cell_type": "code",
      "metadata": {
        "id": "Hw8frmfKFENn"
      },
      "source": [
        "def review_tagger(dataframe,column,n):\n",
        "  info = dataframe[column].tolist()\n",
        "  info = map(preprocess,info)\n",
        "  a = ldafunc(info,n)\n",
        "  first = []\n",
        "  for i in np.arange(1,10):\n",
        "    [first.append(i[0]) for i in a[i][1]]\n",
        "  return pd.Series(first).value_counts().reset_index().iloc[:5,:1]"
      ],
      "execution_count": null,
      "outputs": []
    },
    {
      "cell_type": "code",
      "metadata": {
        "id": "gnXvs9kliOKf"
      },
      "source": [
        "def extract_letter(df,col,regex,a):\n",
        "  if a ==1 :\n",
        "    df[col] = df[col].apply(lambda x: float(''.join(re.findall(regex, x))))\n",
        "  elif a == 2:\n",
        "    df[col] = df[col].apply(lambda x: statistics.mean(map(int,re.sub(regex,' ',x).strip().split())))\n",
        "\n",
        "def extract_string(df,start,end):\n",
        "  start = start\n",
        "  end = end\n",
        "  return df.apply(lambda s :s[s.find(start)+len(start):s.rfind(end)])\n",
        "\n",
        "def concat_data(df,dontadd):\n",
        "  df['all'] = df.loc[:,df.columns != dontadd].apply(lambda x: ','.join(x.dropna().astype(str)),axis=1)\n",
        "\n",
        "def USE_embed(df,col):\n",
        "  data_ls = df[col].tolist()\n",
        "  b = embed(data_ls)\n",
        "  b = b.numpy()\n",
        "  return(pd.DataFrame(b))"
      ],
      "execution_count": null,
      "outputs": []
    },
    {
      "cell_type": "code",
      "metadata": {
        "id": "m1HBehcrbOGQ"
      },
      "source": [
        "%%capture\n",
        "# Install the latest Tensorflow version.\n",
        "!pip3 install --upgrade tensorflow-gpu\n",
        "# Install TF-Hub.\n",
        "!pip3 install tensorflow-hub\n",
        "!pip3 install seaborn\n",
        "#@title Load the Universal Sentence Encoder's TF Hub module\n",
        "from absl import logging\n",
        "\n",
        "import tensorflow as tf\n",
        "import tensorflow_hub as hub\n",
        "import matplotlib.pyplot as plt\n",
        "import numpy as np\n",
        "import os\n",
        "import pandas as pd\n",
        "import re\n",
        "import seaborn as sns\n",
        "\n",
        "module_url = \"https://tfhub.dev/google/universal-sentence-encoder/4\" #@param [\"https://tfhub.dev/google/universal-sentence-encoder/4\", \"https://tfhub.dev/google/universal-sentence-encoder-large/5\"]\n",
        "model = hub.load(module_url)\n",
        "print (\"module %s loaded\" % module_url)\n",
        "def embed(input):\n",
        "  return model(input)"
      ],
      "execution_count": null,
      "outputs": []
    },
    {
      "cell_type": "code",
      "metadata": {
        "id": "2N363MoByOP_"
      },
      "source": [
        "def ldafunc(data,n):\n",
        "  def sent_to_words(sentences):\n",
        "    for sentence in sentences:\n",
        "        yield(gensim.utils.simple_preprocess(str(sentence), deacc=True))  # deacc=True removes punctuations\n",
        "\n",
        "  data_words = list(sent_to_words(data))\n",
        "\n",
        "  #print(data_words[:1])\n",
        "  # Build the bigram and trigram models\n",
        "  bigram = gensim.models.Phrases(data_words, min_count=5, threshold=100) # higher threshold fewer phrases.\n",
        "  trigram = gensim.models.Phrases(bigram[data_words], threshold=100)  \n",
        "\n",
        "  # Faster way to get a sentence clubbed as a trigram/bigram\n",
        "  bigram_mod = gensim.models.phrases.Phraser(bigram)\n",
        "  trigram_mod = gensim.models.phrases.Phraser(trigram)\n",
        "\n",
        "  # See trigram example\n",
        "  #print(trigram_mod[bigram_mod[data_words[0]]])\n",
        "  # Define functions for stopwords, bigrams, trigrams and lemmatization\n",
        "  def remove_stopwords(texts):\n",
        "    return [[word for word in simple_preprocess(str(doc)) if word not in stop_words] for doc in texts]\n",
        "\n",
        "  def make_bigrams(texts):\n",
        "    return [bigram_mod[doc] for doc in texts]\n",
        "\n",
        "  def make_trigrams(texts):\n",
        "    return [trigram_mod[bigram_mod[doc]] for doc in texts]\n",
        "\n",
        "  def lemmatization(texts, allowed_postags=['NOUN', 'ADJ', 'VERB', 'ADV']):\n",
        "    \"\"\"https://spacy.io/api/annotation\"\"\"\n",
        "    texts_out = []\n",
        "    for sent in texts:\n",
        "        doc = nlp(\" \".join(sent)) \n",
        "        texts_out.append([token.lemma_ for token in doc if token.pos_ in allowed_postags])\n",
        "    return texts_out \n",
        "  #To run this code it is necessary to get the spacy moidel: \"!python - m spacy download en\", last depends on the used language \n",
        "\n",
        "  # Remove Stop Words\n",
        "  data_words_nostops = remove_stopwords(data_words)\n",
        "\n",
        "  # Form Bigrams\n",
        "  data_words_bigrams = make_bigrams(data_words_nostops)\n",
        "\n",
        "  # Initialize spacy 'es' model, keeping only tagger component (for efficiency)\n",
        "  #python3 -m spacy download es\n",
        "  nlp = spacy.load('en', disable=['parser', 'ner'])\n",
        "\n",
        "  # Do lemmatization keeping only noun, adj, vb, adv\n",
        "  data_lemmatized = lemmatization(data_words_bigrams, allowed_postags=['NOUN', 'ADJ', 'VERB', 'ADV'])\n",
        "\n",
        "  # Create Dictionary\n",
        "  id2word = corpora.Dictionary(data_lemmatized)\n",
        "\n",
        "  # Create Corpus\n",
        "  texts = data_lemmatized\n",
        "\n",
        "  # Term Document Frequency\n",
        "  corpus = [id2word.doc2bow(text) for text in texts]\n",
        "\n",
        "  # View\n",
        "  #print(corpus[:1])\n",
        "  # Human readable format of corpus (term-frequency)\n",
        "  [[(id2word[id], freq) for id, freq in cp] for cp in corpus[:2]]\n",
        "\n",
        "  # Build LDA model\n",
        "  lda_model = gensim.models.ldamodel.LdaModel(corpus=corpus,\n",
        "                                           id2word=id2word,\n",
        "                                           num_topics=n, \n",
        "                                           random_state=100,\n",
        "                                           update_every=1,\n",
        "                                           chunksize=100,\n",
        "                                           passes=14,\n",
        "                                           alpha='auto',\n",
        "                                           per_word_topics=False)\n",
        "  #pprint(lda_model.print_topics())\n",
        "  doc_lda = lda_model[corpus]\n",
        "\n",
        "  # Visualize the topics\n",
        "  pyLDAvis.enable_notebook()\n",
        "  vis = pyLDAvis.gensim.prepare(lda_model, corpus, id2word)\n",
        "  vis\n",
        "\n",
        "  return lda_model.show_topics(formatted=False, num_words=20)"
      ],
      "execution_count": null,
      "outputs": []
    },
    {
      "cell_type": "code",
      "metadata": {
        "id": "T54tQaa-y197"
      },
      "source": [
        "def text_to_word_list(text):\n",
        "    text = str(text)\n",
        "    text = text.lower()\n",
        "\n",
        "    # Clean the text\n",
        "    text = sub(r\"[^A-Za-z0-9^,!?.\\/'+]\", \" \", text)\n",
        "    text = sub(r\"\\+\", \" plus \", text)\n",
        "    text = sub(r\",\", \" \", text)\n",
        "    text = sub(r\"\\.\", \" \", text)\n",
        "    text = sub(r\"!\", \" ! \", text)\n",
        "    text = sub(r\"\\?\", \" ? \", text)\n",
        "    text = sub(r\"'\", \" \", text)\n",
        "    text = sub(r\":\", \" : \", text)\n",
        "    text = sub(r\"\\s{2,}\", \" \", text)\n",
        "\n",
        "\n",
        "    text = text.split()\n",
        "    return text\n",
        "\n",
        "def preprocess(pdf):\n",
        "  custom_spec_list = ['size','fit','top','print']\n",
        "  for i in custom_spec_list:\n",
        "    pdf=pdf.replace(i,' ')\n",
        "  return pdf"
      ],
      "execution_count": null,
      "outputs": []
    },
    {
      "cell_type": "code",
      "metadata": {
        "id": "JOe5cMLI_Xnt"
      },
      "source": [
        "def matrix(df):\n",
        "  ind = df.index.to_list()\n",
        "  a = len(ind)\n",
        "  data = pd.DataFrame(np.zeros((a,a)),columns=ind,index=ind)\n",
        "  return data\n",
        "\n"
      ],
      "execution_count": null,
      "outputs": []
    }
  ]
}